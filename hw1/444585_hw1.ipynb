{
 "cells": [
  {
   "cell_type": "markdown",
   "metadata": {
    "hidePrompt": false
   },
   "source": [
    "Author: Santiago Matallana\n",
    "\n",
    "Re: Machine Learning for Public Policy - Assignment 1\n",
    "\n",
    "Created: 2016-04-01"
   ]
  },
  {
   "cell_type": "code",
   "execution_count": 1,
   "metadata": {
    "collapsed": true,
    "hideCode": false,
    "hidePrompt": false,
    "slideshow": {
     "slide_type": "-"
    }
   },
   "outputs": [],
   "source": [
    "#Requirements\n",
    "import pandas as pd\n",
    "import matplotlib.pyplot as plt\n",
    "%matplotlib inline\n",
    "plt.rcParams[\"figure.figsize\"] = [18.0, 8.0]\n",
    "plt.style.use('ggplot')\n",
    "import requests\n",
    "import os"
   ]
  },
  {
   "cell_type": "markdown",
   "metadata": {},
   "source": [
    "# Problem A"
   ]
  },
  {
   "cell_type": "markdown",
   "metadata": {},
   "source": [
    "### 1. The first task is to load the file and generate summary statistics for each field as well as probability distributions or histograms. The summary statistics should include mean, median, mode, standard deviation, as well as the number of missing values for each field."
   ]
  },
  {
   "cell_type": "code",
   "execution_count": 2,
   "metadata": {
    "collapsed": false,
    "scrolled": true
   },
   "outputs": [
    {
     "data": {
      "text/html": [
       "<div>\n",
       "<table border=\"1\" class=\"dataframe\">\n",
       "  <thead>\n",
       "    <tr style=\"text-align: right;\">\n",
       "      <th></th>\n",
       "      <th>ID</th>\n",
       "      <th>First_name</th>\n",
       "      <th>Last_name</th>\n",
       "      <th>State</th>\n",
       "      <th>Gender</th>\n",
       "      <th>Age</th>\n",
       "      <th>GPA</th>\n",
       "      <th>Days_missed</th>\n",
       "      <th>Graduated</th>\n",
       "    </tr>\n",
       "  </thead>\n",
       "  <tbody>\n",
       "    <tr>\n",
       "      <th>0</th>\n",
       "      <td>1</td>\n",
       "      <td>Wayne</td>\n",
       "      <td>Boyd</td>\n",
       "      <td>Florida</td>\n",
       "      <td>Male</td>\n",
       "      <td>19</td>\n",
       "      <td>NaN</td>\n",
       "      <td>9</td>\n",
       "      <td>Yes</td>\n",
       "    </tr>\n",
       "    <tr>\n",
       "      <th>1</th>\n",
       "      <td>2</td>\n",
       "      <td>Ann</td>\n",
       "      <td>Matthews</td>\n",
       "      <td>Pennsylvania</td>\n",
       "      <td>Female</td>\n",
       "      <td>18</td>\n",
       "      <td>3</td>\n",
       "      <td>NaN</td>\n",
       "      <td>Yes</td>\n",
       "    </tr>\n",
       "    <tr>\n",
       "      <th>2</th>\n",
       "      <td>3</td>\n",
       "      <td>George</td>\n",
       "      <td>Matthews</td>\n",
       "      <td>Texas</td>\n",
       "      <td>NaN</td>\n",
       "      <td>17</td>\n",
       "      <td>NaN</td>\n",
       "      <td>10</td>\n",
       "      <td>Yes</td>\n",
       "    </tr>\n",
       "    <tr>\n",
       "      <th>3</th>\n",
       "      <td>4</td>\n",
       "      <td>Jerry</td>\n",
       "      <td>Ramos</td>\n",
       "      <td>California</td>\n",
       "      <td>Male</td>\n",
       "      <td>15</td>\n",
       "      <td>2</td>\n",
       "      <td>28</td>\n",
       "      <td>No</td>\n",
       "    </tr>\n",
       "    <tr>\n",
       "      <th>4</th>\n",
       "      <td>5</td>\n",
       "      <td>Andrea</td>\n",
       "      <td>Carroll</td>\n",
       "      <td>North Carolina</td>\n",
       "      <td>Female</td>\n",
       "      <td>NaN</td>\n",
       "      <td>2</td>\n",
       "      <td>29</td>\n",
       "      <td>No</td>\n",
       "    </tr>\n",
       "  </tbody>\n",
       "</table>\n",
       "</div>"
      ],
      "text/plain": [
       "   ID First_name Last_name           State  Gender  Age  GPA  Days_missed  \\\n",
       "0   1      Wayne      Boyd         Florida    Male   19  NaN            9   \n",
       "1   2        Ann  Matthews    Pennsylvania  Female   18    3          NaN   \n",
       "2   3     George  Matthews           Texas     NaN   17  NaN           10   \n",
       "3   4      Jerry     Ramos      California    Male   15    2           28   \n",
       "4   5     Andrea   Carroll  North Carolina  Female  NaN    2           29   \n",
       "\n",
       "  Graduated  \n",
       "0       Yes  \n",
       "1       Yes  \n",
       "2       Yes  \n",
       "3        No  \n",
       "4        No  "
      ]
     },
     "execution_count": 2,
     "metadata": {},
     "output_type": "execute_result"
    }
   ],
   "source": [
    "# Read csv file\n",
    "records = pd.read_csv('mock_student_data.csv')\n",
    "records.head()"
   ]
  },
  {
   "cell_type": "code",
   "execution_count": 3,
   "metadata": {
    "collapsed": false
   },
   "outputs": [
    {
     "data": {
      "text/html": [
       "<div>\n",
       "<table border=\"1\" class=\"dataframe\">\n",
       "  <thead>\n",
       "    <tr style=\"text-align: right;\">\n",
       "      <th></th>\n",
       "      <th>ID</th>\n",
       "      <th>First_name</th>\n",
       "      <th>Last_name</th>\n",
       "      <th>State</th>\n",
       "      <th>Gender</th>\n",
       "      <th>Age</th>\n",
       "      <th>GPA</th>\n",
       "      <th>Days_missed</th>\n",
       "      <th>Graduated</th>\n",
       "    </tr>\n",
       "  </thead>\n",
       "  <tbody>\n",
       "    <tr>\n",
       "      <th>count</th>\n",
       "      <td>1000.000000</td>\n",
       "      <td>1000</td>\n",
       "      <td>1000</td>\n",
       "      <td>884</td>\n",
       "      <td>774</td>\n",
       "      <td>771.000000</td>\n",
       "      <td>779.000000</td>\n",
       "      <td>808.000000</td>\n",
       "      <td>1000</td>\n",
       "    </tr>\n",
       "    <tr>\n",
       "      <th>unique</th>\n",
       "      <td>NaN</td>\n",
       "      <td>200</td>\n",
       "      <td>244</td>\n",
       "      <td>49</td>\n",
       "      <td>2</td>\n",
       "      <td>NaN</td>\n",
       "      <td>NaN</td>\n",
       "      <td>NaN</td>\n",
       "      <td>2</td>\n",
       "    </tr>\n",
       "    <tr>\n",
       "      <th>top</th>\n",
       "      <td>NaN</td>\n",
       "      <td>Amy</td>\n",
       "      <td>Ross</td>\n",
       "      <td>Texas</td>\n",
       "      <td>Female</td>\n",
       "      <td>NaN</td>\n",
       "      <td>NaN</td>\n",
       "      <td>NaN</td>\n",
       "      <td>Yes</td>\n",
       "    </tr>\n",
       "    <tr>\n",
       "      <th>freq</th>\n",
       "      <td>NaN</td>\n",
       "      <td>12</td>\n",
       "      <td>13</td>\n",
       "      <td>97</td>\n",
       "      <td>398</td>\n",
       "      <td>NaN</td>\n",
       "      <td>NaN</td>\n",
       "      <td>NaN</td>\n",
       "      <td>593</td>\n",
       "    </tr>\n",
       "    <tr>\n",
       "      <th>mean</th>\n",
       "      <td>500.500000</td>\n",
       "      <td>NaN</td>\n",
       "      <td>NaN</td>\n",
       "      <td>NaN</td>\n",
       "      <td>NaN</td>\n",
       "      <td>16.996109</td>\n",
       "      <td>2.988447</td>\n",
       "      <td>18.011139</td>\n",
       "      <td>NaN</td>\n",
       "    </tr>\n",
       "    <tr>\n",
       "      <th>std</th>\n",
       "      <td>288.819436</td>\n",
       "      <td>NaN</td>\n",
       "      <td>NaN</td>\n",
       "      <td>NaN</td>\n",
       "      <td>NaN</td>\n",
       "      <td>1.458067</td>\n",
       "      <td>0.818249</td>\n",
       "      <td>9.629371</td>\n",
       "      <td>NaN</td>\n",
       "    </tr>\n",
       "    <tr>\n",
       "      <th>min</th>\n",
       "      <td>1.000000</td>\n",
       "      <td>NaN</td>\n",
       "      <td>NaN</td>\n",
       "      <td>NaN</td>\n",
       "      <td>NaN</td>\n",
       "      <td>15.000000</td>\n",
       "      <td>2.000000</td>\n",
       "      <td>2.000000</td>\n",
       "      <td>NaN</td>\n",
       "    </tr>\n",
       "    <tr>\n",
       "      <th>25%</th>\n",
       "      <td>250.750000</td>\n",
       "      <td>NaN</td>\n",
       "      <td>NaN</td>\n",
       "      <td>NaN</td>\n",
       "      <td>NaN</td>\n",
       "      <td>16.000000</td>\n",
       "      <td>2.000000</td>\n",
       "      <td>9.000000</td>\n",
       "      <td>NaN</td>\n",
       "    </tr>\n",
       "    <tr>\n",
       "      <th>50%</th>\n",
       "      <td>500.500000</td>\n",
       "      <td>NaN</td>\n",
       "      <td>NaN</td>\n",
       "      <td>NaN</td>\n",
       "      <td>NaN</td>\n",
       "      <td>17.000000</td>\n",
       "      <td>3.000000</td>\n",
       "      <td>18.000000</td>\n",
       "      <td>NaN</td>\n",
       "    </tr>\n",
       "    <tr>\n",
       "      <th>75%</th>\n",
       "      <td>750.250000</td>\n",
       "      <td>NaN</td>\n",
       "      <td>NaN</td>\n",
       "      <td>NaN</td>\n",
       "      <td>NaN</td>\n",
       "      <td>18.000000</td>\n",
       "      <td>4.000000</td>\n",
       "      <td>27.000000</td>\n",
       "      <td>NaN</td>\n",
       "    </tr>\n",
       "    <tr>\n",
       "      <th>max</th>\n",
       "      <td>1000.000000</td>\n",
       "      <td>NaN</td>\n",
       "      <td>NaN</td>\n",
       "      <td>NaN</td>\n",
       "      <td>NaN</td>\n",
       "      <td>19.000000</td>\n",
       "      <td>4.000000</td>\n",
       "      <td>34.000000</td>\n",
       "      <td>NaN</td>\n",
       "    </tr>\n",
       "  </tbody>\n",
       "</table>\n",
       "</div>"
      ],
      "text/plain": [
       "                 ID First_name Last_name  State  Gender         Age  \\\n",
       "count   1000.000000       1000      1000    884     774  771.000000   \n",
       "unique          NaN        200       244     49       2         NaN   \n",
       "top             NaN        Amy      Ross  Texas  Female         NaN   \n",
       "freq            NaN         12        13     97     398         NaN   \n",
       "mean     500.500000        NaN       NaN    NaN     NaN   16.996109   \n",
       "std      288.819436        NaN       NaN    NaN     NaN    1.458067   \n",
       "min        1.000000        NaN       NaN    NaN     NaN   15.000000   \n",
       "25%      250.750000        NaN       NaN    NaN     NaN   16.000000   \n",
       "50%      500.500000        NaN       NaN    NaN     NaN   17.000000   \n",
       "75%      750.250000        NaN       NaN    NaN     NaN   18.000000   \n",
       "max     1000.000000        NaN       NaN    NaN     NaN   19.000000   \n",
       "\n",
       "               GPA  Days_missed Graduated  \n",
       "count   779.000000   808.000000      1000  \n",
       "unique         NaN          NaN         2  \n",
       "top            NaN          NaN       Yes  \n",
       "freq           NaN          NaN       593  \n",
       "mean      2.988447    18.011139       NaN  \n",
       "std       0.818249     9.629371       NaN  \n",
       "min       2.000000     2.000000       NaN  \n",
       "25%       2.000000     9.000000       NaN  \n",
       "50%       3.000000    18.000000       NaN  \n",
       "75%       4.000000    27.000000       NaN  \n",
       "max       4.000000    34.000000       NaN  "
      ]
     },
     "execution_count": 3,
     "metadata": {},
     "output_type": "execute_result"
    }
   ],
   "source": [
    "# Summary statistics\n",
    "summary = records.describe(include='all')\n",
    "summary\n"
   ]
  },
  {
   "cell_type": "code",
   "execution_count": 4,
   "metadata": {
    "collapsed": false
   },
   "outputs": [
    {
     "data": {
      "text/html": [
       "<div>\n",
       "<table border=\"1\" class=\"dataframe\">\n",
       "  <thead>\n",
       "    <tr style=\"text-align: right;\">\n",
       "      <th></th>\n",
       "      <th>ID</th>\n",
       "      <th>First_name</th>\n",
       "      <th>Last_name</th>\n",
       "      <th>State</th>\n",
       "      <th>Gender</th>\n",
       "      <th>Age</th>\n",
       "      <th>GPA</th>\n",
       "      <th>Days_missed</th>\n",
       "      <th>Graduated</th>\n",
       "    </tr>\n",
       "  </thead>\n",
       "  <tbody>\n",
       "    <tr>\n",
       "      <th>count</th>\n",
       "      <td>1000.000000</td>\n",
       "      <td>1000</td>\n",
       "      <td>1000</td>\n",
       "      <td>884</td>\n",
       "      <td>774</td>\n",
       "      <td>771.000000</td>\n",
       "      <td>779.000000</td>\n",
       "      <td>808.000000</td>\n",
       "      <td>1000</td>\n",
       "    </tr>\n",
       "    <tr>\n",
       "      <th>unique</th>\n",
       "      <td>NaN</td>\n",
       "      <td>200</td>\n",
       "      <td>244</td>\n",
       "      <td>49</td>\n",
       "      <td>2</td>\n",
       "      <td>NaN</td>\n",
       "      <td>NaN</td>\n",
       "      <td>NaN</td>\n",
       "      <td>2</td>\n",
       "    </tr>\n",
       "    <tr>\n",
       "      <th>top</th>\n",
       "      <td>NaN</td>\n",
       "      <td>Amy</td>\n",
       "      <td>Ross</td>\n",
       "      <td>Texas</td>\n",
       "      <td>Female</td>\n",
       "      <td>NaN</td>\n",
       "      <td>NaN</td>\n",
       "      <td>NaN</td>\n",
       "      <td>Yes</td>\n",
       "    </tr>\n",
       "    <tr>\n",
       "      <th>freq</th>\n",
       "      <td>NaN</td>\n",
       "      <td>12</td>\n",
       "      <td>13</td>\n",
       "      <td>97</td>\n",
       "      <td>398</td>\n",
       "      <td>NaN</td>\n",
       "      <td>NaN</td>\n",
       "      <td>NaN</td>\n",
       "      <td>593</td>\n",
       "    </tr>\n",
       "    <tr>\n",
       "      <th>mean</th>\n",
       "      <td>500.500000</td>\n",
       "      <td>NaN</td>\n",
       "      <td>NaN</td>\n",
       "      <td>NaN</td>\n",
       "      <td>NaN</td>\n",
       "      <td>16.996109</td>\n",
       "      <td>2.988447</td>\n",
       "      <td>18.011139</td>\n",
       "      <td>NaN</td>\n",
       "    </tr>\n",
       "    <tr>\n",
       "      <th>std</th>\n",
       "      <td>288.819436</td>\n",
       "      <td>NaN</td>\n",
       "      <td>NaN</td>\n",
       "      <td>NaN</td>\n",
       "      <td>NaN</td>\n",
       "      <td>1.458067</td>\n",
       "      <td>0.818249</td>\n",
       "      <td>9.629371</td>\n",
       "      <td>NaN</td>\n",
       "    </tr>\n",
       "    <tr>\n",
       "      <th>min</th>\n",
       "      <td>1.000000</td>\n",
       "      <td>NaN</td>\n",
       "      <td>NaN</td>\n",
       "      <td>NaN</td>\n",
       "      <td>NaN</td>\n",
       "      <td>15.000000</td>\n",
       "      <td>2.000000</td>\n",
       "      <td>2.000000</td>\n",
       "      <td>NaN</td>\n",
       "    </tr>\n",
       "    <tr>\n",
       "      <th>25%</th>\n",
       "      <td>250.750000</td>\n",
       "      <td>NaN</td>\n",
       "      <td>NaN</td>\n",
       "      <td>NaN</td>\n",
       "      <td>NaN</td>\n",
       "      <td>16.000000</td>\n",
       "      <td>2.000000</td>\n",
       "      <td>9.000000</td>\n",
       "      <td>NaN</td>\n",
       "    </tr>\n",
       "    <tr>\n",
       "      <th>50%</th>\n",
       "      <td>500.500000</td>\n",
       "      <td>NaN</td>\n",
       "      <td>NaN</td>\n",
       "      <td>NaN</td>\n",
       "      <td>NaN</td>\n",
       "      <td>17.000000</td>\n",
       "      <td>3.000000</td>\n",
       "      <td>18.000000</td>\n",
       "      <td>NaN</td>\n",
       "    </tr>\n",
       "    <tr>\n",
       "      <th>75%</th>\n",
       "      <td>750.250000</td>\n",
       "      <td>NaN</td>\n",
       "      <td>NaN</td>\n",
       "      <td>NaN</td>\n",
       "      <td>NaN</td>\n",
       "      <td>18.000000</td>\n",
       "      <td>4.000000</td>\n",
       "      <td>27.000000</td>\n",
       "      <td>NaN</td>\n",
       "    </tr>\n",
       "    <tr>\n",
       "      <th>max</th>\n",
       "      <td>1000.000000</td>\n",
       "      <td>NaN</td>\n",
       "      <td>NaN</td>\n",
       "      <td>NaN</td>\n",
       "      <td>NaN</td>\n",
       "      <td>19.000000</td>\n",
       "      <td>4.000000</td>\n",
       "      <td>34.000000</td>\n",
       "      <td>NaN</td>\n",
       "    </tr>\n",
       "    <tr>\n",
       "      <th>missing</th>\n",
       "      <td>0.000000</td>\n",
       "      <td>0</td>\n",
       "      <td>0</td>\n",
       "      <td>116</td>\n",
       "      <td>226</td>\n",
       "      <td>229.000000</td>\n",
       "      <td>221.000000</td>\n",
       "      <td>192.000000</td>\n",
       "      <td>0</td>\n",
       "    </tr>\n",
       "  </tbody>\n",
       "</table>\n",
       "</div>"
      ],
      "text/plain": [
       "                  ID First_name Last_name  State  Gender         Age  \\\n",
       "count    1000.000000       1000      1000    884     774  771.000000   \n",
       "unique           NaN        200       244     49       2         NaN   \n",
       "top              NaN        Amy      Ross  Texas  Female         NaN   \n",
       "freq             NaN         12        13     97     398         NaN   \n",
       "mean      500.500000        NaN       NaN    NaN     NaN   16.996109   \n",
       "std       288.819436        NaN       NaN    NaN     NaN    1.458067   \n",
       "min         1.000000        NaN       NaN    NaN     NaN   15.000000   \n",
       "25%       250.750000        NaN       NaN    NaN     NaN   16.000000   \n",
       "50%       500.500000        NaN       NaN    NaN     NaN   17.000000   \n",
       "75%       750.250000        NaN       NaN    NaN     NaN   18.000000   \n",
       "max      1000.000000        NaN       NaN    NaN     NaN   19.000000   \n",
       "missing     0.000000          0         0    116     226  229.000000   \n",
       "\n",
       "                GPA  Days_missed Graduated  \n",
       "count    779.000000   808.000000      1000  \n",
       "unique          NaN          NaN         2  \n",
       "top             NaN          NaN       Yes  \n",
       "freq            NaN          NaN       593  \n",
       "mean       2.988447    18.011139       NaN  \n",
       "std        0.818249     9.629371       NaN  \n",
       "min        2.000000     2.000000       NaN  \n",
       "25%        2.000000     9.000000       NaN  \n",
       "50%        3.000000    18.000000       NaN  \n",
       "75%        4.000000    27.000000       NaN  \n",
       "max        4.000000    34.000000       NaN  \n",
       "missing  221.000000   192.000000         0  "
      ]
     },
     "execution_count": 4,
     "metadata": {},
     "output_type": "execute_result"
    }
   ],
   "source": [
    "# Add row with number of missing values\n",
    "summary.loc['missing'] = len(records) - summary.loc['count']\n",
    "summary"
   ]
  },
  {
   "cell_type": "code",
   "execution_count": 5,
   "metadata": {
    "collapsed": false,
    "scrolled": false
   },
   "outputs": [
    {
     "data": {
      "image/png": "[encoded data removed]",
      "text/plain": [
       "<matplotlib.figure.Figure at 0x109ce0d30>"
      ]
     },
     "metadata": {},
     "output_type": "display_data"
    }
   ],
   "source": [
    "# Histograms\n",
    "pd.DataFrame(records.loc[:, records.columns != 'ID']).hist();\n",
    "plt.savefig('images/histograms.png')"
   ]
  },
  {
   "cell_type": "code",
   "execution_count": 6,
   "metadata": {
    "collapsed": false
   },
   "outputs": [
    {
     "data": {
      "image/png": "[encoded data removed]",
      "text/plain": [
       "<matplotlib.figure.Figure at 0x10a33afd0>"
      ]
     },
     "metadata": {},
     "output_type": "display_data"
    }
   ],
   "source": [
    "# Bar plot of States\n",
    "records['State'].value_counts().plot.bar()\n",
    "plt.title(\"Students per State\", fontdict={'fontsize': 14});\n",
    "plt.savefig('images/barplot_state.png')"
   ]
  },
  {
   "cell_type": "code",
   "execution_count": 7,
   "metadata": {
    "collapsed": false,
    "scrolled": true
   },
   "outputs": [
    {
     "data": {
      "text/plain": [
       "Female     398\n",
       "Male       376\n",
       "Missing    226\n",
       "Name: Gender, dtype: int64"
      ]
     },
     "execution_count": 7,
     "metadata": {},
     "output_type": "execute_result"
    }
   ],
   "source": [
    "# Include missing values in gender variable\n",
    "gender = records['Gender'].value_counts()\n",
    "gender['Missing'] = len(records) - gender['Male'] - gender['Female']\n",
    "gender"
   ]
  },
  {
   "cell_type": "code",
   "execution_count": 8,
   "metadata": {
    "collapsed": false
   },
   "outputs": [
    {
     "data": {
      "image/png": "[encoded data removed]",
      "text/plain": [
       "<matplotlib.figure.Figure at 0x10a320400>"
      ]
     },
     "metadata": {},
     "output_type": "display_data"
    }
   ],
   "source": [
    "# Bar plot of gender\n",
    "gender.plot.bar()\n",
    "plt.title(\"Students per Gender\", fontdict={'fontsize': 14});\n",
    "plt.savefig('images/barplot_gender.png')"
   ]
  },
  {
   "cell_type": "markdown",
   "metadata": {},
   "source": [
    "### 2. You will notice that a lot of students are missing gender values . Your task is to infer the gender of the student based on their name. Please use the API at www.genderize.io to infer the gender of each student and generate a new data file."
   ]
  },
  {
   "cell_type": "code",
   "execution_count": 9,
   "metadata": {
    "collapsed": false
   },
   "outputs": [],
   "source": [
    "def get_gender(name):\n",
    "    '''\n",
    "    Returns gender from name string, using API at www.genderize.io\n",
    "    Requires requests module\n",
    "    '''\n",
    "    urlprefix = 'https://api.genderize.io/?name='  # Define url prefix\n",
    "    r = requests.get(urlprefix + name.lower())\n",
    "    return r.json()['gender']"
   ]
  },
  {
   "cell_type": "code",
   "execution_count": 10,
   "metadata": {
    "collapsed": true,
    "hideCode": false,
    "hidePrompt": false
   },
   "outputs": [],
   "source": [
    "# Apply 'get_gender' function to all names with missing gender \n",
    "gender = records[records['Gender'].isnull()]['First_name'].apply(get_gender)"
   ]
  },
  {
   "cell_type": "code",
   "execution_count": 11,
   "metadata": {
    "collapsed": false,
    "scrolled": true
   },
   "outputs": [],
   "source": [
    "# Replace missing gender values \n",
    "records.loc[records['Gender'].isnull(), 'Gender'] = gender"
   ]
  },
  {
   "cell_type": "code",
   "execution_count": 12,
   "metadata": {
    "collapsed": false
   },
   "outputs": [
    {
     "data": {
      "text/html": [
       "<div>\n",
       "<table border=\"1\" class=\"dataframe\">\n",
       "  <thead>\n",
       "    <tr style=\"text-align: right;\">\n",
       "      <th></th>\n",
       "      <th>ID</th>\n",
       "      <th>First_name</th>\n",
       "      <th>Last_name</th>\n",
       "      <th>State</th>\n",
       "      <th>Gender</th>\n",
       "      <th>Age</th>\n",
       "      <th>GPA</th>\n",
       "      <th>Days_missed</th>\n",
       "      <th>Graduated</th>\n",
       "    </tr>\n",
       "  </thead>\n",
       "  <tbody>\n",
       "    <tr>\n",
       "      <th>count</th>\n",
       "      <td>1000.000000</td>\n",
       "      <td>1000</td>\n",
       "      <td>1000</td>\n",
       "      <td>884</td>\n",
       "      <td>1000</td>\n",
       "      <td>771.000000</td>\n",
       "      <td>779.000000</td>\n",
       "      <td>808.000000</td>\n",
       "      <td>1000</td>\n",
       "    </tr>\n",
       "    <tr>\n",
       "      <th>unique</th>\n",
       "      <td>NaN</td>\n",
       "      <td>200</td>\n",
       "      <td>244</td>\n",
       "      <td>49</td>\n",
       "      <td>4</td>\n",
       "      <td>NaN</td>\n",
       "      <td>NaN</td>\n",
       "      <td>NaN</td>\n",
       "      <td>2</td>\n",
       "    </tr>\n",
       "    <tr>\n",
       "      <th>top</th>\n",
       "      <td>NaN</td>\n",
       "      <td>Amy</td>\n",
       "      <td>Ross</td>\n",
       "      <td>Texas</td>\n",
       "      <td>Female</td>\n",
       "      <td>NaN</td>\n",
       "      <td>NaN</td>\n",
       "      <td>NaN</td>\n",
       "      <td>Yes</td>\n",
       "    </tr>\n",
       "    <tr>\n",
       "      <th>freq</th>\n",
       "      <td>NaN</td>\n",
       "      <td>12</td>\n",
       "      <td>13</td>\n",
       "      <td>97</td>\n",
       "      <td>398</td>\n",
       "      <td>NaN</td>\n",
       "      <td>NaN</td>\n",
       "      <td>NaN</td>\n",
       "      <td>593</td>\n",
       "    </tr>\n",
       "    <tr>\n",
       "      <th>mean</th>\n",
       "      <td>500.500000</td>\n",
       "      <td>NaN</td>\n",
       "      <td>NaN</td>\n",
       "      <td>NaN</td>\n",
       "      <td>NaN</td>\n",
       "      <td>16.996109</td>\n",
       "      <td>2.988447</td>\n",
       "      <td>18.011139</td>\n",
       "      <td>NaN</td>\n",
       "    </tr>\n",
       "    <tr>\n",
       "      <th>std</th>\n",
       "      <td>288.819436</td>\n",
       "      <td>NaN</td>\n",
       "      <td>NaN</td>\n",
       "      <td>NaN</td>\n",
       "      <td>NaN</td>\n",
       "      <td>1.458067</td>\n",
       "      <td>0.818249</td>\n",
       "      <td>9.629371</td>\n",
       "      <td>NaN</td>\n",
       "    </tr>\n",
       "    <tr>\n",
       "      <th>min</th>\n",
       "      <td>1.000000</td>\n",
       "      <td>NaN</td>\n",
       "      <td>NaN</td>\n",
       "      <td>NaN</td>\n",
       "      <td>NaN</td>\n",
       "      <td>15.000000</td>\n",
       "      <td>2.000000</td>\n",
       "      <td>2.000000</td>\n",
       "      <td>NaN</td>\n",
       "    </tr>\n",
       "    <tr>\n",
       "      <th>25%</th>\n",
       "      <td>250.750000</td>\n",
       "      <td>NaN</td>\n",
       "      <td>NaN</td>\n",
       "      <td>NaN</td>\n",
       "      <td>NaN</td>\n",
       "      <td>16.000000</td>\n",
       "      <td>2.000000</td>\n",
       "      <td>9.000000</td>\n",
       "      <td>NaN</td>\n",
       "    </tr>\n",
       "    <tr>\n",
       "      <th>50%</th>\n",
       "      <td>500.500000</td>\n",
       "      <td>NaN</td>\n",
       "      <td>NaN</td>\n",
       "      <td>NaN</td>\n",
       "      <td>NaN</td>\n",
       "      <td>17.000000</td>\n",
       "      <td>3.000000</td>\n",
       "      <td>18.000000</td>\n",
       "      <td>NaN</td>\n",
       "    </tr>\n",
       "    <tr>\n",
       "      <th>75%</th>\n",
       "      <td>750.250000</td>\n",
       "      <td>NaN</td>\n",
       "      <td>NaN</td>\n",
       "      <td>NaN</td>\n",
       "      <td>NaN</td>\n",
       "      <td>18.000000</td>\n",
       "      <td>4.000000</td>\n",
       "      <td>27.000000</td>\n",
       "      <td>NaN</td>\n",
       "    </tr>\n",
       "    <tr>\n",
       "      <th>max</th>\n",
       "      <td>1000.000000</td>\n",
       "      <td>NaN</td>\n",
       "      <td>NaN</td>\n",
       "      <td>NaN</td>\n",
       "      <td>NaN</td>\n",
       "      <td>19.000000</td>\n",
       "      <td>4.000000</td>\n",
       "      <td>34.000000</td>\n",
       "      <td>NaN</td>\n",
       "    </tr>\n",
       "  </tbody>\n",
       "</table>\n",
       "</div>"
      ],
      "text/plain": [
       "                 ID First_name Last_name  State  Gender         Age  \\\n",
       "count   1000.000000       1000      1000    884    1000  771.000000   \n",
       "unique          NaN        200       244     49       4         NaN   \n",
       "top             NaN        Amy      Ross  Texas  Female         NaN   \n",
       "freq            NaN         12        13     97     398         NaN   \n",
       "mean     500.500000        NaN       NaN    NaN     NaN   16.996109   \n",
       "std      288.819436        NaN       NaN    NaN     NaN    1.458067   \n",
       "min        1.000000        NaN       NaN    NaN     NaN   15.000000   \n",
       "25%      250.750000        NaN       NaN    NaN     NaN   16.000000   \n",
       "50%      500.500000        NaN       NaN    NaN     NaN   17.000000   \n",
       "75%      750.250000        NaN       NaN    NaN     NaN   18.000000   \n",
       "max     1000.000000        NaN       NaN    NaN     NaN   19.000000   \n",
       "\n",
       "               GPA  Days_missed Graduated  \n",
       "count   779.000000   808.000000      1000  \n",
       "unique         NaN          NaN         2  \n",
       "top            NaN          NaN       Yes  \n",
       "freq           NaN          NaN       593  \n",
       "mean      2.988447    18.011139       NaN  \n",
       "std       0.818249     9.629371       NaN  \n",
       "min       2.000000     2.000000       NaN  \n",
       "25%       2.000000     9.000000       NaN  \n",
       "50%       3.000000    18.000000       NaN  \n",
       "75%       4.000000    27.000000       NaN  \n",
       "max       4.000000    34.000000       NaN  "
      ]
     },
     "execution_count": 12,
     "metadata": {},
     "output_type": "execute_result"
    }
   ],
   "source": [
    "# Summary statistics\n",
    "summary = records.describe(include='all')\n",
    "summary"
   ]
  },
  {
   "cell_type": "code",
   "execution_count": 13,
   "metadata": {
    "collapsed": false
   },
   "outputs": [],
   "source": [
    "# Capitalize gender column strings\n",
    "records['Gender'] = records['Gender'].apply(str.capitalize)"
   ]
  },
  {
   "cell_type": "code",
   "execution_count": 14,
   "metadata": {
    "collapsed": false
   },
   "outputs": [],
   "source": [
    "# Create directory for new data files\n",
    "if not os.path.exists('new_data_files'):\n",
    "    os.mkdir('new_data_files')\n",
    "# Generate a new data file\n",
    "records.to_csv('new_data_files/Q2.csv')"
   ]
  },
  {
   "cell_type": "markdown",
   "metadata": {},
   "source": [
    "### 3. You will also notice that some of the other attributes are missing. Your task is to fill in the missing values for Age, GPA, and Days_missed using the following approaches:\n",
    "### A. Fill in missing values with the mean of the values for that attribute.\n",
    "### You should create 2 new files with the missing values filled, one for each approach A, B, and C and submit those along with your code."
   ]
  },
  {
   "cell_type": "code",
   "execution_count": 15,
   "metadata": {
    "collapsed": true
   },
   "outputs": [],
   "source": [
    "# Create copy of dataframe\n",
    "records2 = records.copy()"
   ]
  },
  {
   "cell_type": "code",
   "execution_count": 16,
   "metadata": {
    "collapsed": false
   },
   "outputs": [],
   "source": [
    "# Fill in missing values of 'Age' with its mean\n",
    "records2.loc[records2['Age'].isnull(), 'Age'] = records2['Age'].mean()\n",
    "\n",
    "# Fill in missing values of 'GPA' with its mean\n",
    "records2.loc[records2['GPA'].isnull(), 'GPA'] = records2['GPA'].mean()\n",
    "\n",
    "# Fill in missing values of 'Days_missed' with its mean\n",
    "records2.loc[records2['Days_missed'].isnull(), 'Days_missed'] = records2['Days_missed'].mean()"
   ]
  },
  {
   "cell_type": "code",
   "execution_count": 17,
   "metadata": {
    "collapsed": false,
    "scrolled": true
   },
   "outputs": [
    {
     "data": {
      "text/html": [
       "<div>\n",
       "<table border=\"1\" class=\"dataframe\">\n",
       "  <thead>\n",
       "    <tr style=\"text-align: right;\">\n",
       "      <th></th>\n",
       "      <th>mean</th>\n",
       "    </tr>\n",
       "  </thead>\n",
       "  <tbody>\n",
       "    <tr>\n",
       "      <th>Age</th>\n",
       "      <td>16.996109</td>\n",
       "    </tr>\n",
       "    <tr>\n",
       "      <th>GPA</th>\n",
       "      <td>2.988447</td>\n",
       "    </tr>\n",
       "    <tr>\n",
       "      <th>Days_missed</th>\n",
       "      <td>18.011139</td>\n",
       "    </tr>\n",
       "  </tbody>\n",
       "</table>\n",
       "</div>"
      ],
      "text/plain": [
       "                  mean\n",
       "Age          16.996109\n",
       "GPA           2.988447\n",
       "Days_missed  18.011139"
      ]
     },
     "execution_count": 17,
     "metadata": {},
     "output_type": "execute_result"
    }
   ],
   "source": [
    "pd.DataFrame(records2.describe().loc['mean', ['Age', 'GPA', 'Days_missed']])"
   ]
  },
  {
   "cell_type": "code",
   "execution_count": 18,
   "metadata": {
    "collapsed": false
   },
   "outputs": [],
   "source": [
    "# Create directory for new data files\n",
    "if not os.path.exists('new_data_files'):\n",
    "    os.mkdir('new_data_files')\n",
    "# Generate a new data file\n",
    "records2.to_csv('new_data_files/Q3A.csv')"
   ]
  },
  {
   "cell_type": "markdown",
   "metadata": {},
   "source": [
    "### B. Fill in missing values with a class-conditional mean (where the class is whether they graduated or not)."
   ]
  },
  {
   "cell_type": "code",
   "execution_count": 19,
   "metadata": {
    "collapsed": true
   },
   "outputs": [],
   "source": [
    "# Create copy of dataframe\n",
    "records3 = records.copy()"
   ]
  },
  {
   "cell_type": "markdown",
   "metadata": {},
   "source": [
    "---\n",
    "Age"
   ]
  },
  {
   "cell_type": "code",
   "execution_count": 20,
   "metadata": {
    "collapsed": false
   },
   "outputs": [
    {
     "data": {
      "text/plain": [
       "16.958874458874458"
      ]
     },
     "execution_count": 20,
     "metadata": {},
     "output_type": "execute_result"
    }
   ],
   "source": [
    "# Age mean for graduates\n",
    "grad_age_mean = records3[records3['Graduated'] == 'Yes']['Age'].mean()\n",
    "grad_age_mean"
   ]
  },
  {
   "cell_type": "code",
   "execution_count": 21,
   "metadata": {
    "collapsed": false
   },
   "outputs": [
    {
     "data": {
      "text/plain": [
       "17.051779935275082"
      ]
     },
     "execution_count": 21,
     "metadata": {},
     "output_type": "execute_result"
    }
   ],
   "source": [
    "# Age mean for non-graduates\n",
    "non_grad_age_mean = records3[records3['Graduated'] == 'No']['Age'].mean()\n",
    "non_grad_age_mean"
   ]
  },
  {
   "cell_type": "code",
   "execution_count": 22,
   "metadata": {
    "collapsed": false,
    "scrolled": true
   },
   "outputs": [],
   "source": [
    "# Fill in missing values of 'Age' with its class-conditional mean (graduated or not)\n",
    "records3.loc[(records3['Graduated'] == 'Yes') & (records3['Age'].isnull()), 'Age'] = grad_age_mean\n",
    "records3.loc[(records3['Graduated'] == 'No') & (records3['Age'].isnull()), 'Age'] = non_grad_age_mean"
   ]
  },
  {
   "cell_type": "markdown",
   "metadata": {},
   "source": [
    "---\n",
    "GPA"
   ]
  },
  {
   "cell_type": "code",
   "execution_count": 23,
   "metadata": {
    "collapsed": false
   },
   "outputs": [
    {
     "data": {
      "text/plain": [
       "3.5053763440860215"
      ]
     },
     "execution_count": 23,
     "metadata": {},
     "output_type": "execute_result"
    }
   ],
   "source": [
    "# GPA mean for graduates\n",
    "grad_GPA_mean = records3[records3['Graduated'] == 'Yes']['GPA'].mean()\n",
    "grad_GPA_mean"
   ]
  },
  {
   "cell_type": "code",
   "execution_count": 24,
   "metadata": {
    "collapsed": false
   },
   "outputs": [
    {
     "data": {
      "text/plain": [
       "2.515970515970516"
      ]
     },
     "execution_count": 24,
     "metadata": {},
     "output_type": "execute_result"
    }
   ],
   "source": [
    "# GPA mean for non-graduates\n",
    "non_grad_GPA_mean = records3[records3['Graduated'] == 'No']['GPA'].mean()\n",
    "non_grad_GPA_mean"
   ]
  },
  {
   "cell_type": "code",
   "execution_count": 25,
   "metadata": {
    "collapsed": false,
    "scrolled": true
   },
   "outputs": [],
   "source": [
    "# Fill in missing values of 'GPA' with its class-conditional mean (graduated or not)\n",
    "records3.loc[(records3['Graduated'] == 'Yes') & (records3['GPA'].isnull()), 'GPA'] = grad_GPA_mean\n",
    "records3.loc[(records3['Graduated'] == 'No') & (records3['GPA'].isnull()), 'GPA'] = non_grad_GPA_mean"
   ]
  },
  {
   "cell_type": "markdown",
   "metadata": {},
   "source": [
    "---\n",
    "Days_missed"
   ]
  },
  {
   "cell_type": "code",
   "execution_count": 26,
   "metadata": {
    "collapsed": false
   },
   "outputs": [
    {
     "data": {
      "text/plain": [
       "16.77556109725686"
      ]
     },
     "execution_count": 26,
     "metadata": {},
     "output_type": "execute_result"
    }
   ],
   "source": [
    "# Days_missed mean for graduates\n",
    "grad_days_mean = records3[records3['Graduated'] == 'Yes']['Days_missed'].mean()\n",
    "grad_days_mean"
   ]
  },
  {
   "cell_type": "code",
   "execution_count": 27,
   "metadata": {
    "collapsed": false
   },
   "outputs": [
    {
     "data": {
      "text/plain": [
       "19.22850122850123"
      ]
     },
     "execution_count": 27,
     "metadata": {},
     "output_type": "execute_result"
    }
   ],
   "source": [
    "# Days_missed mean for non-graduates\n",
    "non_grad_days_mean = records3[records3['Graduated'] == 'No']['Days_missed'].mean()\n",
    "non_grad_days_mean"
   ]
  },
  {
   "cell_type": "code",
   "execution_count": 28,
   "metadata": {
    "collapsed": false,
    "scrolled": true
   },
   "outputs": [],
   "source": [
    "# Fill in missing values of 'Days_missed' with its class-conditional mean (graduated or not)\n",
    "records3.loc[(records3['Graduated'] == 'Yes') & (records3['Days_missed'].isnull()), 'Days_missed'] = grad_days_mean\n",
    "records3.loc[(records3['Graduated'] == 'No') & (records3['Days_missed'].isnull()), 'Days_missed'] = non_grad_days_mean"
   ]
  },
  {
   "cell_type": "code",
   "execution_count": 29,
   "metadata": {
    "collapsed": false,
    "scrolled": true
   },
   "outputs": [
    {
     "data": {
      "text/html": [
       "<div>\n",
       "<table border=\"1\" class=\"dataframe\">\n",
       "  <thead>\n",
       "    <tr style=\"text-align: right;\">\n",
       "      <th></th>\n",
       "      <th>mean</th>\n",
       "    </tr>\n",
       "  </thead>\n",
       "  <tbody>\n",
       "    <tr>\n",
       "      <th>Age</th>\n",
       "      <td>16.996687</td>\n",
       "    </tr>\n",
       "    <tr>\n",
       "      <th>GPA</th>\n",
       "      <td>3.102688</td>\n",
       "    </tr>\n",
       "    <tr>\n",
       "      <th>Days_missed</th>\n",
       "      <td>17.773908</td>\n",
       "    </tr>\n",
       "  </tbody>\n",
       "</table>\n",
       "</div>"
      ],
      "text/plain": [
       "                  mean\n",
       "Age          16.996687\n",
       "GPA           3.102688\n",
       "Days_missed  17.773908"
      ]
     },
     "execution_count": 29,
     "metadata": {},
     "output_type": "execute_result"
    }
   ],
   "source": [
    "pd.DataFrame(records3.describe().loc['mean', ['Age', 'GPA', 'Days_missed']])"
   ]
  },
  {
   "cell_type": "code",
   "execution_count": 30,
   "metadata": {
    "collapsed": false
   },
   "outputs": [],
   "source": [
    "# Create directory for new data files\n",
    "if not os.path.exists('new_data_files'):\n",
    "    os.mkdir('new_data_files')\n",
    "# Generate a new data file\n",
    "records3.to_csv('new_data_files/Q3B.csv')"
   ]
  },
  {
   "cell_type": "markdown",
   "metadata": {},
   "source": [
    "### C. Is there a better, more appropriate method for filling in the missing values? If yes, describe and implement it."
   ]
  },
  {
   "cell_type": "code",
   "execution_count": 31,
   "metadata": {
    "collapsed": true
   },
   "outputs": [],
   "source": [
    "# Create copy of dataframe\n",
    "records4 = records.copy()"
   ]
  },
  {
   "cell_type": "markdown",
   "metadata": {},
   "source": [
    "---\n",
    "**Age**: better to fill in with class-conditional means using combinations of:\n",
    "- Graduated {Yes, No}\n",
    "- Gender {Male, Female}"
   ]
  },
  {
   "cell_type": "code",
   "execution_count": 32,
   "metadata": {
    "collapsed": false
   },
   "outputs": [],
   "source": [
    "# Define classes (4 combinations)\n",
    "age1 = records4[(records4['Graduated'] == 'Yes') & (records4['Gender'] == 'Male')]\n",
    "age2 = records4[(records4['Graduated'] == 'Yes') & (records4['Gender'] == 'Female')]\n",
    "age3 = records4[(records4['Graduated'] == 'No') & (records4['Gender'] == 'Male')]\n",
    "age4 = records4[(records4['Graduated'] == 'No') & (records4['Gender'] == 'Female')]"
   ]
  },
  {
   "cell_type": "code",
   "execution_count": 33,
   "metadata": {
    "collapsed": false
   },
   "outputs": [
    {
     "data": {
      "text/plain": [
       "(16.948837209302326,\n",
       " 16.967611336032387,\n",
       " 17.136363636363637,\n",
       " 16.967741935483872)"
      ]
     },
     "execution_count": 33,
     "metadata": {},
     "output_type": "execute_result"
    }
   ],
   "source": [
    "# Define class-conditional means\n",
    "age1_mean = records4[(records4['Graduated'] == 'Yes') & (records4['Gender'] == 'Male')]['Age'].mean()\n",
    "age2_mean = records4[(records4['Graduated'] == 'Yes') & (records4['Gender'] == 'Female')]['Age'].mean()\n",
    "age3_mean = records4[(records4['Graduated'] == 'No') & (records4['Gender'] == 'Male')]['Age'].mean()\n",
    "age4_mean = records4[(records4['Graduated'] == 'No') & (records4['Gender'] == 'Female')]['Age'].mean()\n",
    "age1_mean, age2_mean, age3_mean, age4_mean"
   ]
  },
  {
   "cell_type": "code",
   "execution_count": 34,
   "metadata": {
    "collapsed": false,
    "scrolled": true
   },
   "outputs": [],
   "source": [
    "# Fill in missing values\n",
    "records4.loc[age1[age1['Age'].isnull()].index, 'Age'] = age1_mean\n",
    "records4.loc[age2[age2['Age'].isnull()].index, 'Age'] = age2_mean\n",
    "records4.loc[age3[age3['Age'].isnull()].index, 'Age'] = age3_mean\n",
    "records4.loc[age4[age4['Age'].isnull()].index, 'Age'] = age4_mean"
   ]
  },
  {
   "cell_type": "markdown",
   "metadata": {},
   "source": [
    "---\n",
    "**GPA**: better to fill in with class-conditional means using combinations of:\n",
    "- Graduated {Yes, No}\n",
    "- Gender {Male, Female}\n",
    "- Days_missed, by quartiles: [2,9), [9,18), [18,27), [27,34)"
   ]
  },
  {
   "cell_type": "code",
   "execution_count": 35,
   "metadata": {
    "collapsed": false
   },
   "outputs": [],
   "source": [
    "# Define classes (16 combinations)\n",
    "GPA1 = records4[(records4['Graduated'] == 'Yes') & (records4['Gender'] == 'Male') & (records4['Days_missed'] >= 2) & \\\n",
    "                (records4['Days_missed'] < 9)]\n",
    "GPA2 = records4[(records4['Graduated'] == 'Yes') & (records4['Gender'] == 'Male') & (records4['Days_missed'] >= 9) & \\\n",
    "                (records4['Days_missed'] < 18)]\n",
    "GPA3 = records4[(records4['Graduated'] == 'Yes') & (records4['Gender'] == 'Male') & (records4['Days_missed'] >= 18) & \\\n",
    "                (records4['Days_missed'] < 27)]\n",
    "GPA4 = records4[(records4['Graduated'] == 'Yes') & (records4['Gender'] == 'Male') & (records4['Days_missed'] >= 27) & \\\n",
    "                (records4['Days_missed'] < 34)]\n",
    "GPA5 = records4[(records4['Graduated'] == 'Yes') & (records4['Gender'] == 'Female') & (records4['Days_missed'] >= 2) & \\\n",
    "                (records4['Days_missed'] < 9)]\n",
    "GPA6 = records4[(records4['Graduated'] == 'Yes') & (records4['Gender'] == 'Female') & (records4['Days_missed'] >= 9) & \\\n",
    "                (records4['Days_missed'] < 18)]\n",
    "GPA7 = records4[(records4['Graduated'] == 'Yes') & (records4['Gender'] == 'Female') & (records4['Days_missed'] >= 18) & \\\n",
    "                (records4['Days_missed'] < 27)]\n",
    "GPA8 = records4[(records4['Graduated'] == 'Yes') & (records4['Gender'] == 'Female') & (records4['Days_missed'] >= 27) & \\\n",
    "                (records4['Days_missed'] < 34)]\n",
    "GPA9 = records4[(records4['Graduated'] == 'No') & (records4['Gender'] == 'Male') & (records4['Days_missed'] >= 2) & \\\n",
    "                (records4['Days_missed'] < 9)]\n",
    "GPA10 = records4[(records4['Graduated'] == 'No') & (records4['Gender'] == 'Male') & (records4['Days_missed'] >= 9) & \\\n",
    "                (records4['Days_missed'] < 18)]\n",
    "GPA11 = records4[(records4['Graduated'] == 'No') & (records4['Gender'] == 'Male') & (records4['Days_missed'] >= 18) & \\\n",
    "                (records4['Days_missed'] < 27)]\n",
    "GPA12 = records4[(records4['Graduated'] == 'No') & (records4['Gender'] == 'Male') & (records4['Days_missed'] >= 27) & \\\n",
    "                (records4['Days_missed'] < 34)]\n",
    "GPA13 = records4[(records4['Graduated'] == 'No') & (records4['Gender'] == 'Female') & (records4['Days_missed'] >= 2) & \\\n",
    "                (records4['Days_missed'] < 9)]\n",
    "GPA14 = records4[(records4['Graduated'] == 'No') & (records4['Gender'] == 'Female') & (records4['Days_missed'] >= 9) & \\\n",
    "                (records4['Days_missed'] < 18)]\n",
    "GPA15 = records4[(records4['Graduated'] == 'No') & (records4['Gender'] == 'Female') & (records4['Days_missed'] >= 18) & \\\n",
    "                (records4['Days_missed'] < 27)]\n",
    "GPA16 = records4[(records4['Graduated'] == 'No') & (records4['Gender'] == 'Female') & (records4['Days_missed'] >= 27) & \\\n",
    "                (records4['Days_missed'] < 34)]"
   ]
  },
  {
   "cell_type": "code",
   "execution_count": 36,
   "metadata": {
    "collapsed": false
   },
   "outputs": [
    {
     "data": {
      "text/plain": [
       "(3.5428571428571427,\n",
       " 4.0,\n",
       " 4.0,\n",
       " 4.0,\n",
       " 3.4285714285714284,\n",
       " 4.0,\n",
       " 4.0,\n",
       " 4.0,\n",
       " 2.5294117647058822,\n",
       " 2.466666666666667,\n",
       " 2.5833333333333335,\n",
       " 2.5,\n",
       " 2.4,\n",
       " 2.5,\n",
       " 2.5555555555555554,\n",
       " 2.519230769230769)"
      ]
     },
     "execution_count": 36,
     "metadata": {},
     "output_type": "execute_result"
    }
   ],
   "source": [
    "# Define class-conditional means\n",
    "GPA1_mean = records4[(records4['Graduated'] == 'Yes') & (records4['Gender'] == 'Male') & (records4['Days_missed'] >= 2) & \\\n",
    "                (records4['Days_missed'] < 9)]['GPA'].mean()\n",
    "GPA2_mean = records4[(records4['Graduated'] == 'Yes') & (records4['Gender'] == 'Male') & (records4['Days_missed'] >= 9) & \\\n",
    "                (records4['Days_missed'] < 18)]['GPA'].mean()\n",
    "GPA3_mean = records4[(records4['Graduated'] == 'Yes') & (records4['Gender'] == 'Male') & (records4['Days_missed'] >= 18) & \\\n",
    "                (records4['Days_missed'] < 27)]['GPA'].mean()\n",
    "GPA4_mean = records4[(records4['Graduated'] == 'Yes') & (records4['Gender'] == 'Male') & (records4['Days_missed'] >= 27) & \\\n",
    "                (records4['Days_missed'] < 34)]['GPA'].mean()\n",
    "GPA5_mean = records4[(records4['Graduated'] == 'Yes') & (records4['Gender'] == 'Female') & (records4['Days_missed'] >= 2) & \\\n",
    "                (records4['Days_missed'] < 9)]['GPA'].mean()\n",
    "GPA6_mean = records4[(records4['Graduated'] == 'Yes') & (records4['Gender'] == 'Female') & (records4['Days_missed'] >= 9) & \\\n",
    "                (records4['Days_missed'] < 18)]['GPA'].mean()\n",
    "GPA7_mean = records4[(records4['Graduated'] == 'Yes') & (records4['Gender'] == 'Female') & (records4['Days_missed'] >= 18) & \\\n",
    "                (records4['Days_missed'] < 27)]['GPA'].mean()\n",
    "GPA8_mean = records4[(records4['Graduated'] == 'Yes') & (records4['Gender'] == 'Female') & (records4['Days_missed'] >= 27) & \\\n",
    "                (records4['Days_missed'] < 34)]['GPA'].mean()\n",
    "GPA9_mean = records4[(records4['Graduated'] == 'No') & (records4['Gender'] == 'Male') & (records4['Days_missed'] >= 2) & \\\n",
    "                (records4['Days_missed'] < 9)]['GPA'].mean()\n",
    "GPA10_mean = records4[(records4['Graduated'] == 'No') & (records4['Gender'] == 'Male') & (records4['Days_missed'] >= 9) & \\\n",
    "                (records4['Days_missed'] < 18)]['GPA'].mean()\n",
    "GPA11_mean = records4[(records4['Graduated'] == 'No') & (records4['Gender'] == 'Male') & (records4['Days_missed'] >= 18) & \\\n",
    "                (records4['Days_missed'] < 27)]['GPA'].mean()\n",
    "GPA12_mean = records4[(records4['Graduated'] == 'No') & (records4['Gender'] == 'Male') & (records4['Days_missed'] >= 27) & \\\n",
    "                (records4['Days_missed'] < 34)]['GPA'].mean()\n",
    "GPA13_mean = records4[(records4['Graduated'] == 'No') & (records4['Gender'] == 'Female') & (records4['Days_missed'] >= 2) & \\\n",
    "                (records4['Days_missed'] < 9)]['GPA'].mean()\n",
    "GPA14_mean = records4[(records4['Graduated'] == 'No') & (records4['Gender'] == 'Female') & (records4['Days_missed'] >= 9) & \\\n",
    "                (records4['Days_missed'] < 18)]['GPA'].mean()\n",
    "GPA15_mean = records4[(records4['Graduated'] == 'No') & (records4['Gender'] == 'Female') & (records4['Days_missed'] >= 18) & \\\n",
    "                (records4['Days_missed'] < 27)]['GPA'].mean()\n",
    "GPA16_mean = records4[(records4['Graduated'] == 'No') & (records4['Gender'] == 'Female') & (records4['Days_missed'] >= 27) & \\\n",
    "                (records4['Days_missed'] < 34)]['GPA'].mean()\n",
    "GPA1_mean, GPA2_mean, GPA3_mean, GPA4_mean, GPA5_mean, GPA6_mean, GPA7_mean, GPA8_mean, GPA9_mean, GPA10_mean, GPA11_mean, \\\n",
    "    GPA12_mean, GPA13_mean, GPA14_mean, GPA15_mean, GPA16_mean"
   ]
  },
  {
   "cell_type": "code",
   "execution_count": 37,
   "metadata": {
    "collapsed": false,
    "scrolled": true
   },
   "outputs": [],
   "source": [
    "# Fill in missing values\n",
    "records4.loc[GPA1[GPA1['GPA'].isnull()].index, 'GPA'] = GPA1_mean\n",
    "records4.loc[GPA2[GPA2['GPA'].isnull()].index, 'GPA'] = GPA2_mean\n",
    "records4.loc[GPA3[GPA3['GPA'].isnull()].index, 'GPA'] = GPA3_mean\n",
    "records4.loc[GPA4[GPA4['GPA'].isnull()].index, 'GPA'] = GPA4_mean\n",
    "records4.loc[GPA5[GPA5['GPA'].isnull()].index, 'GPA'] = GPA5_mean\n",
    "records4.loc[GPA6[GPA6['GPA'].isnull()].index, 'GPA'] = GPA6_mean\n",
    "records4.loc[GPA7[GPA7['GPA'].isnull()].index, 'GPA'] = GPA7_mean\n",
    "records4.loc[GPA8[GPA8['GPA'].isnull()].index, 'GPA'] = GPA8_mean\n",
    "records4.loc[GPA9[GPA9['GPA'].isnull()].index, 'GPA'] = GPA9_mean\n",
    "records4.loc[GPA10[GPA10['GPA'].isnull()].index, 'GPA'] = GPA10_mean\n",
    "records4.loc[GPA11[GPA11['GPA'].isnull()].index, 'GPA'] = GPA11_mean\n",
    "records4.loc[GPA12[GPA12['GPA'].isnull()].index, 'GPA'] = GPA12_mean\n",
    "records4.loc[GPA13[GPA13['GPA'].isnull()].index, 'GPA'] = GPA13_mean\n",
    "records4.loc[GPA14[GPA14['GPA'].isnull()].index, 'GPA'] = GPA14_mean\n",
    "records4.loc[GPA15[GPA15['GPA'].isnull()].index, 'GPA'] = GPA15_mean\n",
    "records4.loc[GPA16[GPA16['GPA'].isnull()].index, 'GPA'] = GPA16_mean"
   ]
  },
  {
   "cell_type": "markdown",
   "metadata": {},
   "source": [
    "---\n",
    "**Days_missed**: better to fill in with class-conditional means using combinations of:\n",
    "- Graduated {Yes, No}\n",
    "- GPA {2, 3, 4}"
   ]
  },
  {
   "cell_type": "code",
   "execution_count": 38,
   "metadata": {
    "collapsed": false
   },
   "outputs": [],
   "source": [
    "# Define classes (6 combinations)\n",
    "days1 = records4[(records4['Graduated'] == 'Yes') & (records4['GPA'] == 2)]\n",
    "days2 = records4[(records4['Graduated'] == 'Yes') & (records4['GPA'] == 3)]\n",
    "days3 = records4[(records4['Graduated'] == 'Yes') & (records4['GPA'] == 4)]\n",
    "days4 = records4[(records4['Graduated'] == 'No') & (records4['GPA'] == 2)]\n",
    "days5 = records4[(records4['Graduated'] == 'No') & (records4['GPA'] == 3)]\n",
    "days6 = records4[(records4['Graduated'] == 'No') & (records4['GPA'] == 4)]"
   ]
  },
  {
   "cell_type": "code",
   "execution_count": 39,
   "metadata": {
    "collapsed": false
   },
   "outputs": [
    {
     "data": {
      "text/plain": [
       "(2.75,\n",
       " 2.3333333333333335,\n",
       " 19.065217391304348,\n",
       " 18.761421319796955,\n",
       " 19.666666666666668,\n",
       " nan)"
      ]
     },
     "execution_count": 39,
     "metadata": {},
     "output_type": "execute_result"
    }
   ],
   "source": [
    "# Define class-conditional means\n",
    "days1_mean = records4[(records4['Graduated'] == 'Yes') & (records4['GPA'] == 2)]['Days_missed'].mean()\n",
    "days2_mean = records4[(records4['Graduated'] == 'Yes') & (records4['GPA'] == 3)]['Days_missed'].mean()\n",
    "days3_mean = records4[(records4['Graduated'] == 'Yes') & (records4['GPA'] == 4)]['Days_missed'].mean()\n",
    "days4_mean = records4[(records4['Graduated'] == 'No') & (records4['GPA'] == 2)]['Days_missed'].mean()\n",
    "days5_mean = records4[(records4['Graduated'] == 'No') & (records4['GPA'] == 3)]['Days_missed'].mean()\n",
    "days6_mean = records4[(records4['Graduated'] == 'No') & (records4['GPA'] == 4)]['Days_missed'].mean()\n",
    "days1_mean, days2_mean, days3_mean, days4_mean, days5_mean, days6_mean"
   ]
  },
  {
   "cell_type": "code",
   "execution_count": 40,
   "metadata": {
    "collapsed": false,
    "scrolled": true
   },
   "outputs": [],
   "source": [
    "# Fill in missing values\n",
    "records4.loc[days1[days1['Days_missed'].isnull()].index, 'Days_missed'] = days1_mean\n",
    "records4.loc[days2[days2['Days_missed'].isnull()].index, 'Days_missed'] = days2_mean\n",
    "records4.loc[days3[days3['Days_missed'].isnull()].index, 'Days_missed'] = days3_mean\n",
    "records4.loc[days4[days4['Days_missed'].isnull()].index, 'Days_missed'] = days4_mean\n",
    "records4.loc[days5[days5['Days_missed'].isnull()].index, 'Days_missed'] = days5_mean\n",
    "records4.loc[days6[days6['Days_missed'].isnull()].index, 'Days_missed'] = days6_mean"
   ]
  },
  {
   "cell_type": "code",
   "execution_count": 41,
   "metadata": {
    "collapsed": false
   },
   "outputs": [
    {
     "data": {
      "text/html": [
       "<div>\n",
       "<table border=\"1\" class=\"dataframe\">\n",
       "  <thead>\n",
       "    <tr style=\"text-align: right;\">\n",
       "      <th></th>\n",
       "      <th>mean</th>\n",
       "    </tr>\n",
       "  </thead>\n",
       "  <tbody>\n",
       "    <tr>\n",
       "      <th>Age</th>\n",
       "      <td>16.995963</td>\n",
       "    </tr>\n",
       "    <tr>\n",
       "      <th>GPA</th>\n",
       "      <td>3.142193</td>\n",
       "    </tr>\n",
       "    <tr>\n",
       "      <th>Days_missed</th>\n",
       "      <td>16.585955</td>\n",
       "    </tr>\n",
       "  </tbody>\n",
       "</table>\n",
       "</div>"
      ],
      "text/plain": [
       "                  mean\n",
       "Age          16.995963\n",
       "GPA           3.142193\n",
       "Days_missed  16.585955"
      ]
     },
     "execution_count": 41,
     "metadata": {},
     "output_type": "execute_result"
    }
   ],
   "source": [
    "pd.DataFrame(records4.describe().loc['mean', ['Age', 'GPA', 'Days_missed']])"
   ]
  },
  {
   "cell_type": "code",
   "execution_count": 42,
   "metadata": {
    "collapsed": true
   },
   "outputs": [],
   "source": [
    "# Create directory for new data files\n",
    "if not os.path.exists('new_data_files'):\n",
    "    os.mkdir('new_data_files')\n",
    "# Generate a new data file\n",
    "records3.to_csv('new_data_files/Q3C.csv')"
   ]
  }
 ],
 "metadata": {
  "kernelspec": {
   "display_name": "Python 3",
   "language": "python",
   "name": "python3"
  },
  "language_info": {
   "codemirror_mode": {
    "name": "ipython",
    "version": 3
   },
   "file_extension": ".py",
   "mimetype": "text/x-python",
   "name": "python",
   "nbconvert_exporter": "python",
   "pygments_lexer": "ipython3",
   "version": "3.5.1"
  }
 },
 "nbformat": 4,
 "nbformat_minor": 0
}
